{
 "cells": [
  {
   "cell_type": "markdown",
   "id": "977d1c57",
   "metadata": {},
   "source": [
    "### Q1. What is Abstraction in OOps? Explain with an example."
   ]
  },
  {
   "cell_type": "markdown",
   "id": "3cfc2ff6",
   "metadata": {},
   "source": [
    "Abstraction in Object-Oriented Programming (OOP) is a technique to hide implementation details and show only essential features to the user. It is a way to reduce the complexity and make the code more \n",
    "maintainable by encapsulating the behavior and data within objects."
   ]
  },
  {
   "cell_type": "code",
   "execution_count": 14,
   "id": "e1482ff7",
   "metadata": {},
   "outputs": [
    {
     "name": "stdout",
     "output_type": "stream",
     "text": [
      "Dodge Challanger Hellcat engine started\n",
      "Dodge Challanger Hellcat is now moving at 10 kmph\n",
      "Dodge Challanger Hellcat is now moving at 20 kmph\n",
      "Dodge Challanger Hellcat is now moving at 30 kmph\n",
      "Dodge Challanger Hellcat has stopped\n"
     ]
    }
   ],
   "source": [
    "# example\n",
    "\n",
    "\n",
    "class car:\n",
    "    \n",
    "    def __init__(self,make,model,year):\n",
    "        \n",
    "        self.make=make\n",
    "        self.model=model\n",
    "        self.year=year\n",
    "        self._speed=0\n",
    "        \n",
    "    def start(self):\n",
    "        print(f'{self.make} {self.model} engine started')\n",
    "        \n",
    "    def accelerate(self):\n",
    "        self._speed+=10\n",
    "        print(f'{self.make} {self.model} is now moving at {self._speed} kmph')\n",
    "        \n",
    "    def stop(self):\n",
    "        self._speed=0\n",
    "        print(f'{self.make} {self.model} has stopped')\n",
    "        \n",
    "# User of the car doesn't need to know how the engine works, but only needs to know how to operate it\n",
    "my_car = car('Dodge Challanger', 'Hellcat', 2022)\n",
    "my_car.start()\n",
    "my_car.accelerate()\n",
    "my_car.accelerate()\n",
    "my_car.accelerate()\n",
    "my_car.stop()        "
   ]
  },
  {
   "cell_type": "markdown",
   "id": "13bd980b",
   "metadata": {},
   "source": [
    "### Q2. Differentiate between Abstraction and Encapsulation. Explain with an example."
   ]
  },
  {
   "cell_type": "markdown",
   "id": "1bc24732",
   "metadata": {},
   "source": [
    "Abstraction: refers to the process of hiding the implementation details of an object and exposing only the essential features to the user. It is a technique to simplify complex systems by hiding the underlying complexity and providing a clear and easy to use interface.\n",
    "\n",
    "Encapsulation: on the other hand, is the mechanism of wrapping data and functions within an object. It is a way to protect the data from unauthorized access and modification by limiting the access to the object's internal data and behavior."
   ]
  },
  {
   "cell_type": "code",
   "execution_count": 15,
   "id": "77f88117",
   "metadata": {},
   "outputs": [],
   "source": [
    "class Car:\n",
    "    def __init__(self, make, model, year):\n",
    "        self.make = make\n",
    "        self.model = model\n",
    "        self.year = year\n",
    "        self._speed = 0\n",
    "\n",
    "    def start_engine(self):\n",
    "        print(f'{self.make} {self.model} engine started')\n",
    "\n",
    "    def accelerate(self):\n",
    "        self._speed += 10\n",
    "        print(f'{self.make} {self.model} is now moving at {self._speed} mph')\n",
    "\n",
    "    def stop(self):\n",
    "        self._speed = 0\n",
    "        print(f'{self.make} {self.model} has stopped')\n"
   ]
  },
  {
   "cell_type": "markdown",
   "id": "1101aaa9",
   "metadata": {},
   "source": [
    "Here the abstraction is to provide a simple interface to start the engine, accelerate, and stop the car. The encapsulation is to protect the internal data, _speed, from unauthorized access and modification. "
   ]
  },
  {
   "cell_type": "markdown",
   "id": "2c1a4af5",
   "metadata": {},
   "source": [
    "### Q3. What is abc module in python? Why is it used?"
   ]
  },
  {
   "cell_type": "markdown",
   "id": "861d2a06",
   "metadata": {},
   "source": [
    "The abc module in Python stands for \"Abstract Base Classes\". It provides a way to define abstract base classes in Python, which are classes that cannot be instantiated on their own but can be subclassed by other classes.\n",
    "\n",
    "The purpose of using abstract base classes is to provide a common interface for a set of related classes, to enforce certain contracts or constraints on the classes that inherit from them, or to specify what methods must be implemented by any concrete class that subclasses the abstract base class.\n",
    "\n",
    "The abc module provides a set of decorators and methods that can be used to define abstract base classes and abstract methods in a way that is compatible with Python's object-oriented programming model. The abc module also provides a way to register concrete classes as implementations of an abstract base class, which allows for better interoperability between different libraries and modules"
   ]
  },
  {
   "cell_type": "markdown",
   "id": "9d071f79",
   "metadata": {},
   "source": [
    "### Q4. How can we achieve data abstraction?"
   ]
  },
  {
   "cell_type": "markdown",
   "id": "296327be",
   "metadata": {},
   "source": [
    "Data abstraction in Object-Oriented Programming (OOP) is achieved by hiding the implementation details of an object and exposing only the essential features to the user. There are several ways to achieve data abstraction in OOP, including:\n",
    "\n",
    "1.Encapsulation: Encapsulation is the mechanism of wrapping data and functions within an object. By making the data members of a class private or protected, they can only be accessed and modified through the public methods of the class, providing a level of abstraction.\n",
    "\n",
    "2.Access Modifiers: Access modifiers, such as private, protected, and public, can be used to control the access to the data members of a class. By making the data members private or protected, they can only be accessed and modified within the class or its subclasses, providing a level of abstraction.m"
   ]
  },
  {
   "cell_type": "code",
   "execution_count": 27,
   "id": "a0fa40f0",
   "metadata": {},
   "outputs": [],
   "source": [
    "class car:\n",
    "    def __init__(self, make, model, year):\n",
    "        self.__make = make\n",
    "        self.__model = model\n",
    "        self.__year = year\n",
    "        self.__speed = 0\n",
    "\n",
    "    def start_engine(self):\n",
    "        print(f'{self.__make} {self.__model} engine started')\n",
    "\n",
    "    def accelerate(self):\n",
    "        self.__speed += 10\n",
    "        print(f'{self.__make} {self.__model} is now moving at {self.__speed} mph')\n",
    "\n",
    "    def stop(self):\n",
    "        self.__speed = 0\n",
    "        print(f'{self.__make} {self.__model} has stopped')\n",
    "\n",
    "        # access through getter to return private data memeber:\n",
    "\n",
    "    def get_make(self):\n",
    "        return self.__make\n",
    "\n",
    "    def get_model(self):\n",
    "        return self.__model\n",
    "\n",
    "    def get_year(self):\n",
    "        return self.__year    "
   ]
  },
  {
   "cell_type": "markdown",
   "id": "dff3ae5b",
   "metadata": {},
   "source": [
    "the class Car encapsulates its data and behavior within the class and makes the data members __make, __model, __year, and __speed private, so they can only be accessed and modified through the public methods of the class."
   ]
  },
  {
   "cell_type": "code",
   "execution_count": 28,
   "id": "5b425395",
   "metadata": {},
   "outputs": [],
   "source": [
    "car=car(\"Chevrolet\", 'Camaro',2010)"
   ]
  },
  {
   "cell_type": "code",
   "execution_count": 31,
   "id": "5328b847",
   "metadata": {},
   "outputs": [
    {
     "data": {
      "text/plain": [
       "'Chevrolet'"
      ]
     },
     "execution_count": 31,
     "metadata": {},
     "output_type": "execute_result"
    }
   ],
   "source": [
    "car.get_make()"
   ]
  },
  {
   "cell_type": "code",
   "execution_count": 32,
   "id": "4323293e",
   "metadata": {},
   "outputs": [
    {
     "data": {
      "text/plain": [
       "'Camaro'"
      ]
     },
     "execution_count": 32,
     "metadata": {},
     "output_type": "execute_result"
    }
   ],
   "source": [
    "car.get_model()"
   ]
  },
  {
   "cell_type": "code",
   "execution_count": 33,
   "id": "9afb7fc5",
   "metadata": {},
   "outputs": [
    {
     "data": {
      "text/plain": [
       "2010"
      ]
     },
     "execution_count": 33,
     "metadata": {},
     "output_type": "execute_result"
    }
   ],
   "source": [
    "car.get_year()"
   ]
  },
  {
   "cell_type": "markdown",
   "id": "2d28b242",
   "metadata": {},
   "source": [
    "### Q5. Can we create an instance of an abstract class? Explain your answer."
   ]
  },
  {
   "cell_type": "markdown",
   "id": "66b00282",
   "metadata": {},
   "source": [
    "No, you cannot create an instance of an abstract class directly. An abstract class is a class that cannot be instantiated on its own and serves as a base class for other classes to inherit from. The purpose of an abstract class is to provide a common interface and/or implementation for its subclasses. To use an abstract class, you must create a subclass that extends the abstract class and implements any abstract methods defined in the abstract class. Then, you can create instances of the subclass."
   ]
  }
 ],
 "metadata": {
  "kernelspec": {
   "display_name": "Python 3 (ipykernel)",
   "language": "python",
   "name": "python3"
  },
  "language_info": {
   "codemirror_mode": {
    "name": "ipython",
    "version": 3
   },
   "file_extension": ".py",
   "mimetype": "text/x-python",
   "name": "python",
   "nbconvert_exporter": "python",
   "pygments_lexer": "ipython3",
   "version": "3.9.7"
  }
 },
 "nbformat": 4,
 "nbformat_minor": 5
}
